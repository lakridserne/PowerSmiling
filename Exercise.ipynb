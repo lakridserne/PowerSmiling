{
 "cells": [
  {
   "cell_type": "code",
   "execution_count": 45,
   "metadata": {},
   "outputs": [],
   "source": [
    "import words\n",
    "import random"
   ]
  },
  {
   "cell_type": "code",
   "execution_count": 46,
   "metadata": {},
   "outputs": [
    {
     "name": "stdout",
     "output_type": "stream",
     "text": [
      "484\n",
      "227\n"
     ]
    }
   ],
   "source": [
    "nouns_len = len(words.NOUNS)\n",
    "adjectives_len = len(words.ADJECTIVES)\n",
    "\n",
    "print(nouns_len)\n",
    "print(adjectives_len)"
   ]
  },
  {
   "cell_type": "code",
   "execution_count": 52,
   "metadata": {},
   "outputs": [],
   "source": [
    "\"\"\"\n",
    "random.choice selects random elements from the list\n",
    "\"\"\"\n",
    "names = []"
   ]
  },
  {
   "cell_type": "code",
   "execution_count": 53,
   "metadata": {},
   "outputs": [],
   "source": [
    "for i in range(20):\n",
    "    names.append(str(random.choice(words.NOUNS).capitalize()) + \" \" + str(random.choice(words.ADJECTIVES)).capitalize())"
   ]
  },
  {
   "cell_type": "code",
   "execution_count": 55,
   "metadata": {},
   "outputs": [
    {
     "name": "stdout",
     "output_type": "stream",
     "text": [
      "Cookie Gentle\n",
      "Patience Quaint\n",
      "Friendship Creepy\n",
      "Power Smiling\n",
      "Emphasis Precious\n",
      "Mall Disturbed\n",
      "Ladder Nasty\n",
      "Leader Embarrassed\n",
      "Beer Busy\n",
      "Definition Splendid\n",
      "Temperature Vivacious\n",
      "Relation Innocent\n",
      "Height Selfish\n",
      "Imagination Wicked\n",
      "Employee Elegant\n",
      "Reality Fantastic\n",
      "Leader Energetic\n",
      "Control Thoughtless\n",
      "Diamond Grotesque\n",
      "Society Distinct\n"
     ]
    }
   ],
   "source": [
    "for i in range(20):\n",
    "    print(names[i])"
   ]
  },
  {
   "cell_type": "code",
   "execution_count": 59,
   "metadata": {},
   "outputs": [
    {
     "name": "stdout",
     "output_type": "stream",
     "text": [
      "1\n",
      "1000000\n"
     ]
    }
   ],
   "source": [
    "int_values = []\n",
    "for i in range(1000000):\n",
    "    int_values.append(i+1)\n",
    "print(min(int_values))\n",
    "print(max(int_values))"
   ]
  },
  {
   "cell_type": "code",
   "execution_count": null,
   "metadata": {},
   "outputs": [],
   "source": []
  },
  {
   "cell_type": "code",
   "execution_count": null,
   "metadata": {},
   "outputs": [],
   "source": []
  },
  {
   "cell_type": "code",
   "execution_count": null,
   "metadata": {},
   "outputs": [],
   "source": []
  }
 ],
 "metadata": {
  "kernelspec": {
   "display_name": "Python 3",
   "language": "python",
   "name": "python3"
  },
  "language_info": {
   "codemirror_mode": {
    "name": "ipython",
    "version": 3
   },
   "file_extension": ".py",
   "mimetype": "text/x-python",
   "name": "python",
   "nbconvert_exporter": "python",
   "pygments_lexer": "ipython3",
   "version": "3.7.3"
  }
 },
 "nbformat": 4,
 "nbformat_minor": 2
}
