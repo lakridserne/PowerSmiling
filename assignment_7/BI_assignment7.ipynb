{
 "cells": [
  {
   "cell_type": "markdown",
   "metadata": {},
   "source": [
    "# Business Intelligence Assignment 7 "
   ]
  },
  {
   "cell_type": "markdown",
   "metadata": {},
   "source": [
    "### Groupname Powersmilling - This assignment was made by Yakubu, Kristoffer and Yosuke"
   ]
  },
  {
   "cell_type": "markdown",
   "metadata": {},
   "source": [
    "### Part 1: Data processing"
   ]
  },
  {
   "cell_type": "code",
   "execution_count": 127,
   "metadata": {},
   "outputs": [
    {
     "name": "stdout",
     "output_type": "stream",
     "text": [
      "Populating the interactive namespace from numpy and matplotlib\n"
     ]
    }
   ],
   "source": [
    "import pandas as pd\n",
    "%pylab inline\n",
    "import matplotlib.pyplot as plt \n",
    "from sklearn.model_selection import train_test_split\n",
    "from sklearn import preprocessing\n",
    "from sklearn.metrics import accuracy_score\n",
    "from sklearn.model_selection import cross_val_score\n",
    "from sklearn import svm\n",
    "from sklearn import tree\n",
    "from sklearn.linear_model import LogisticRegression\n",
    "from sklearn.neighbors import KNeighborsClassifier\n",
    "from sklearn import metrics\n",
    "from sklearn.metrics import confusion_matrix\n",
    "from sklearn.metrics import precision_score\n",
    "from sklearn.metrics import roc_curve, auc\n",
    "from sklearn.metrics import precision_recall_curve\n",
    "from sklearn.metrics import average_precision_score\n",
    "from sklearn.metrics import classification_report\n"
   ]
  },
  {
   "cell_type": "code",
   "execution_count": 2,
   "metadata": {},
   "outputs": [],
   "source": [
    "df = pd.read_csv('../adjustfinallist.csv')"
   ]
  },
  {
   "cell_type": "code",
   "execution_count": 3,
   "metadata": {},
   "outputs": [
    {
     "data": {
      "text/html": [
       "<div>\n",
       "<style scoped>\n",
       "    .dataframe tbody tr th:only-of-type {\n",
       "        vertical-align: middle;\n",
       "    }\n",
       "\n",
       "    .dataframe tbody tr th {\n",
       "        vertical-align: top;\n",
       "    }\n",
       "\n",
       "    .dataframe thead th {\n",
       "        text-align: right;\n",
       "    }\n",
       "</style>\n",
       "<table border=\"1\" class=\"dataframe\">\n",
       "  <thead>\n",
       "    <tr style=\"text-align: right;\">\n",
       "      <th></th>\n",
       "      <th>Unnamed: 0</th>\n",
       "      <th>Unnamed: 0.1</th>\n",
       "      <th>address</th>\n",
       "      <th>zip_code</th>\n",
       "      <th>price</th>\n",
       "      <th>sell_date</th>\n",
       "      <th>sell_type</th>\n",
       "      <th>price_per_sqm</th>\n",
       "      <th>no_rooms</th>\n",
       "      <th>housing_type</th>\n",
       "      <th>size_in_sqm</th>\n",
       "      <th>year_of_construction</th>\n",
       "      <th>price_change_in_pct</th>\n",
       "      <th>latitude</th>\n",
       "      <th>longitude</th>\n",
       "      <th>zip_nr</th>\n",
       "      <th>sell_year</th>\n",
       "      <th>dist_from_cph_center</th>\n",
       "    </tr>\n",
       "  </thead>\n",
       "  <tbody>\n",
       "    <tr>\n",
       "      <th>0</th>\n",
       "      <td>0</td>\n",
       "      <td>0</td>\n",
       "      <td>Ved Volden 5, 5. TV</td>\n",
       "      <td>1425 København K</td>\n",
       "      <td>4000000</td>\n",
       "      <td>2017-05-23</td>\n",
       "      <td>Alm. Salg</td>\n",
       "      <td>43956.0</td>\n",
       "      <td>3</td>\n",
       "      <td>Lejlighed</td>\n",
       "      <td>91.0</td>\n",
       "      <td>1938.0</td>\n",
       "      <td>0.0</td>\n",
       "      <td>55.671769</td>\n",
       "      <td>12.593629</td>\n",
       "      <td>1425</td>\n",
       "      <td>2017</td>\n",
       "      <td>2.851984</td>\n",
       "    </tr>\n",
       "    <tr>\n",
       "      <th>1</th>\n",
       "      <td>1</td>\n",
       "      <td>1</td>\n",
       "      <td>Rådhusstræde 4C, 1</td>\n",
       "      <td>1466 København K</td>\n",
       "      <td>4895000</td>\n",
       "      <td>2017-05-18</td>\n",
       "      <td>Alm. Salg</td>\n",
       "      <td>46619.0</td>\n",
       "      <td>3</td>\n",
       "      <td>Lejlighed</td>\n",
       "      <td>105.0</td>\n",
       "      <td>1796.0</td>\n",
       "      <td>0.0</td>\n",
       "      <td>55.676839</td>\n",
       "      <td>12.573689</td>\n",
       "      <td>1466</td>\n",
       "      <td>2017</td>\n",
       "      <td>0.600778</td>\n",
       "    </tr>\n",
       "    <tr>\n",
       "      <th>2</th>\n",
       "      <td>2</td>\n",
       "      <td>2</td>\n",
       "      <td>Store Kongensgade 112A, 3</td>\n",
       "      <td>1264 København K</td>\n",
       "      <td>250000</td>\n",
       "      <td>2017-05-15</td>\n",
       "      <td>Andet</td>\n",
       "      <td>1851.0</td>\n",
       "      <td>2</td>\n",
       "      <td>Lejlighed</td>\n",
       "      <td>135.0</td>\n",
       "      <td>1860.0</td>\n",
       "      <td>0.0</td>\n",
       "      <td>55.687079</td>\n",
       "      <td>12.590441</td>\n",
       "      <td>1264</td>\n",
       "      <td>2017</td>\n",
       "      <td>2.731312</td>\n",
       "    </tr>\n",
       "    <tr>\n",
       "      <th>3</th>\n",
       "      <td>3</td>\n",
       "      <td>3</td>\n",
       "      <td>Amaliegade 13G, 2</td>\n",
       "      <td>1256 København K</td>\n",
       "      <td>7375000</td>\n",
       "      <td>2017-05-15</td>\n",
       "      <td>Alm. Salg</td>\n",
       "      <td>75255.0</td>\n",
       "      <td>3</td>\n",
       "      <td>Lejlighed</td>\n",
       "      <td>98.0</td>\n",
       "      <td>1948.0</td>\n",
       "      <td>9.0</td>\n",
       "      <td>55.683439</td>\n",
       "      <td>12.591287</td>\n",
       "      <td>1256</td>\n",
       "      <td>2017</td>\n",
       "      <td>2.673396</td>\n",
       "    </tr>\n",
       "    <tr>\n",
       "      <th>4</th>\n",
       "      <td>4</td>\n",
       "      <td>4</td>\n",
       "      <td>Borgergade 144, 3. TH</td>\n",
       "      <td>1300 København K</td>\n",
       "      <td>5825000</td>\n",
       "      <td>2017-10-05</td>\n",
       "      <td>Alm. Salg</td>\n",
       "      <td>57673.0</td>\n",
       "      <td>3</td>\n",
       "      <td>Lejlighed</td>\n",
       "      <td>101.0</td>\n",
       "      <td>1854.0</td>\n",
       "      <td>3.0</td>\n",
       "      <td>55.687623</td>\n",
       "      <td>12.588744</td>\n",
       "      <td>1300</td>\n",
       "      <td>2017</td>\n",
       "      <td>2.590746</td>\n",
       "    </tr>\n",
       "  </tbody>\n",
       "</table>\n",
       "</div>"
      ],
      "text/plain": [
       "   Unnamed: 0  Unnamed: 0.1                    address          zip_code  \\\n",
       "0           0             0        Ved Volden 5, 5. TV  1425 København K   \n",
       "1           1             1         Rådhusstræde 4C, 1  1466 København K   \n",
       "2           2             2  Store Kongensgade 112A, 3  1264 København K   \n",
       "3           3             3          Amaliegade 13G, 2  1256 København K   \n",
       "4           4             4      Borgergade 144, 3. TH  1300 København K   \n",
       "\n",
       "     price   sell_date  sell_type  price_per_sqm  no_rooms housing_type  \\\n",
       "0  4000000  2017-05-23  Alm. Salg        43956.0         3    Lejlighed   \n",
       "1  4895000  2017-05-18  Alm. Salg        46619.0         3    Lejlighed   \n",
       "2   250000  2017-05-15      Andet         1851.0         2    Lejlighed   \n",
       "3  7375000  2017-05-15  Alm. Salg        75255.0         3    Lejlighed   \n",
       "4  5825000  2017-10-05  Alm. Salg        57673.0         3    Lejlighed   \n",
       "\n",
       "   size_in_sqm  year_of_construction  price_change_in_pct   latitude  \\\n",
       "0         91.0                1938.0                  0.0  55.671769   \n",
       "1        105.0                1796.0                  0.0  55.676839   \n",
       "2        135.0                1860.0                  0.0  55.687079   \n",
       "3         98.0                1948.0                  9.0  55.683439   \n",
       "4        101.0                1854.0                  3.0  55.687623   \n",
       "\n",
       "   longitude  zip_nr  sell_year  dist_from_cph_center  \n",
       "0  12.593629    1425       2017              2.851984  \n",
       "1  12.573689    1466       2017              0.600778  \n",
       "2  12.590441    1264       2017              2.731312  \n",
       "3  12.591287    1256       2017              2.673396  \n",
       "4  12.588744    1300       2017              2.590746  "
      ]
     },
     "execution_count": 3,
     "metadata": {},
     "output_type": "execute_result"
    }
   ],
   "source": [
    "df.head()"
   ]
  },
  {
   "cell_type": "code",
   "execution_count": 4,
   "metadata": {},
   "outputs": [],
   "source": [
    "df.drop(['Unnamed: 0','Unnamed: 0.1'], axis=1, inplace=True)"
   ]
  },
  {
   "cell_type": "code",
   "execution_count": 5,
   "metadata": {},
   "outputs": [
    {
     "data": {
      "text/html": [
       "<div>\n",
       "<style scoped>\n",
       "    .dataframe tbody tr th:only-of-type {\n",
       "        vertical-align: middle;\n",
       "    }\n",
       "\n",
       "    .dataframe tbody tr th {\n",
       "        vertical-align: top;\n",
       "    }\n",
       "\n",
       "    .dataframe thead th {\n",
       "        text-align: right;\n",
       "    }\n",
       "</style>\n",
       "<table border=\"1\" class=\"dataframe\">\n",
       "  <thead>\n",
       "    <tr style=\"text-align: right;\">\n",
       "      <th></th>\n",
       "      <th>address</th>\n",
       "      <th>zip_code</th>\n",
       "      <th>price</th>\n",
       "      <th>sell_date</th>\n",
       "      <th>sell_type</th>\n",
       "      <th>price_per_sqm</th>\n",
       "      <th>no_rooms</th>\n",
       "      <th>housing_type</th>\n",
       "      <th>size_in_sqm</th>\n",
       "      <th>year_of_construction</th>\n",
       "      <th>price_change_in_pct</th>\n",
       "      <th>latitude</th>\n",
       "      <th>longitude</th>\n",
       "      <th>zip_nr</th>\n",
       "      <th>sell_year</th>\n",
       "      <th>dist_from_cph_center</th>\n",
       "    </tr>\n",
       "  </thead>\n",
       "  <tbody>\n",
       "    <tr>\n",
       "      <th>0</th>\n",
       "      <td>Ved Volden 5, 5. TV</td>\n",
       "      <td>1425 København K</td>\n",
       "      <td>4000000</td>\n",
       "      <td>2017-05-23</td>\n",
       "      <td>Alm. Salg</td>\n",
       "      <td>43956.0</td>\n",
       "      <td>3</td>\n",
       "      <td>Lejlighed</td>\n",
       "      <td>91.0</td>\n",
       "      <td>1938.0</td>\n",
       "      <td>0.0</td>\n",
       "      <td>55.671769</td>\n",
       "      <td>12.593629</td>\n",
       "      <td>1425</td>\n",
       "      <td>2017</td>\n",
       "      <td>2.851984</td>\n",
       "    </tr>\n",
       "    <tr>\n",
       "      <th>1</th>\n",
       "      <td>Rådhusstræde 4C, 1</td>\n",
       "      <td>1466 København K</td>\n",
       "      <td>4895000</td>\n",
       "      <td>2017-05-18</td>\n",
       "      <td>Alm. Salg</td>\n",
       "      <td>46619.0</td>\n",
       "      <td>3</td>\n",
       "      <td>Lejlighed</td>\n",
       "      <td>105.0</td>\n",
       "      <td>1796.0</td>\n",
       "      <td>0.0</td>\n",
       "      <td>55.676839</td>\n",
       "      <td>12.573689</td>\n",
       "      <td>1466</td>\n",
       "      <td>2017</td>\n",
       "      <td>0.600778</td>\n",
       "    </tr>\n",
       "    <tr>\n",
       "      <th>2</th>\n",
       "      <td>Store Kongensgade 112A, 3</td>\n",
       "      <td>1264 København K</td>\n",
       "      <td>250000</td>\n",
       "      <td>2017-05-15</td>\n",
       "      <td>Andet</td>\n",
       "      <td>1851.0</td>\n",
       "      <td>2</td>\n",
       "      <td>Lejlighed</td>\n",
       "      <td>135.0</td>\n",
       "      <td>1860.0</td>\n",
       "      <td>0.0</td>\n",
       "      <td>55.687079</td>\n",
       "      <td>12.590441</td>\n",
       "      <td>1264</td>\n",
       "      <td>2017</td>\n",
       "      <td>2.731312</td>\n",
       "    </tr>\n",
       "    <tr>\n",
       "      <th>3</th>\n",
       "      <td>Amaliegade 13G, 2</td>\n",
       "      <td>1256 København K</td>\n",
       "      <td>7375000</td>\n",
       "      <td>2017-05-15</td>\n",
       "      <td>Alm. Salg</td>\n",
       "      <td>75255.0</td>\n",
       "      <td>3</td>\n",
       "      <td>Lejlighed</td>\n",
       "      <td>98.0</td>\n",
       "      <td>1948.0</td>\n",
       "      <td>9.0</td>\n",
       "      <td>55.683439</td>\n",
       "      <td>12.591287</td>\n",
       "      <td>1256</td>\n",
       "      <td>2017</td>\n",
       "      <td>2.673396</td>\n",
       "    </tr>\n",
       "    <tr>\n",
       "      <th>4</th>\n",
       "      <td>Borgergade 144, 3. TH</td>\n",
       "      <td>1300 København K</td>\n",
       "      <td>5825000</td>\n",
       "      <td>2017-10-05</td>\n",
       "      <td>Alm. Salg</td>\n",
       "      <td>57673.0</td>\n",
       "      <td>3</td>\n",
       "      <td>Lejlighed</td>\n",
       "      <td>101.0</td>\n",
       "      <td>1854.0</td>\n",
       "      <td>3.0</td>\n",
       "      <td>55.687623</td>\n",
       "      <td>12.588744</td>\n",
       "      <td>1300</td>\n",
       "      <td>2017</td>\n",
       "      <td>2.590746</td>\n",
       "    </tr>\n",
       "  </tbody>\n",
       "</table>\n",
       "</div>"
      ],
      "text/plain": [
       "                     address          zip_code    price   sell_date  \\\n",
       "0        Ved Volden 5, 5. TV  1425 København K  4000000  2017-05-23   \n",
       "1         Rådhusstræde 4C, 1  1466 København K  4895000  2017-05-18   \n",
       "2  Store Kongensgade 112A, 3  1264 København K   250000  2017-05-15   \n",
       "3          Amaliegade 13G, 2  1256 København K  7375000  2017-05-15   \n",
       "4      Borgergade 144, 3. TH  1300 København K  5825000  2017-10-05   \n",
       "\n",
       "   sell_type  price_per_sqm  no_rooms housing_type  size_in_sqm  \\\n",
       "0  Alm. Salg        43956.0         3    Lejlighed         91.0   \n",
       "1  Alm. Salg        46619.0         3    Lejlighed        105.0   \n",
       "2      Andet         1851.0         2    Lejlighed        135.0   \n",
       "3  Alm. Salg        75255.0         3    Lejlighed         98.0   \n",
       "4  Alm. Salg        57673.0         3    Lejlighed        101.0   \n",
       "\n",
       "   year_of_construction  price_change_in_pct   latitude  longitude  zip_nr  \\\n",
       "0                1938.0                  0.0  55.671769  12.593629    1425   \n",
       "1                1796.0                  0.0  55.676839  12.573689    1466   \n",
       "2                1860.0                  0.0  55.687079  12.590441    1264   \n",
       "3                1948.0                  9.0  55.683439  12.591287    1256   \n",
       "4                1854.0                  3.0  55.687623  12.588744    1300   \n",
       "\n",
       "   sell_year  dist_from_cph_center  \n",
       "0       2017              2.851984  \n",
       "1       2017              0.600778  \n",
       "2       2017              2.731312  \n",
       "3       2017              2.673396  \n",
       "4       2017              2.590746  "
      ]
     },
     "execution_count": 5,
     "metadata": {},
     "output_type": "execute_result"
    }
   ],
   "source": [
    "df.head()"
   ]
  },
  {
   "cell_type": "code",
   "execution_count": 6,
   "metadata": {},
   "outputs": [
    {
     "data": {
      "text/html": [
       "<div>\n",
       "<style scoped>\n",
       "    .dataframe tbody tr th:only-of-type {\n",
       "        vertical-align: middle;\n",
       "    }\n",
       "\n",
       "    .dataframe tbody tr th {\n",
       "        vertical-align: top;\n",
       "    }\n",
       "\n",
       "    .dataframe thead th {\n",
       "        text-align: right;\n",
       "    }\n",
       "</style>\n",
       "<table border=\"1\" class=\"dataframe\">\n",
       "  <thead>\n",
       "    <tr style=\"text-align: right;\">\n",
       "      <th></th>\n",
       "      <th>price</th>\n",
       "      <th>price_per_sqm</th>\n",
       "      <th>no_rooms</th>\n",
       "      <th>size_in_sqm</th>\n",
       "      <th>year_of_construction</th>\n",
       "      <th>price_change_in_pct</th>\n",
       "      <th>latitude</th>\n",
       "      <th>longitude</th>\n",
       "      <th>zip_nr</th>\n",
       "      <th>sell_year</th>\n",
       "      <th>dist_from_cph_center</th>\n",
       "    </tr>\n",
       "  </thead>\n",
       "  <tbody>\n",
       "    <tr>\n",
       "      <th>count</th>\n",
       "      <td>1.038644e+06</td>\n",
       "      <td>1.038644e+06</td>\n",
       "      <td>1.038644e+06</td>\n",
       "      <td>1.038644e+06</td>\n",
       "      <td>1.038644e+06</td>\n",
       "      <td>1.038644e+06</td>\n",
       "      <td>1.038644e+06</td>\n",
       "      <td>1.038644e+06</td>\n",
       "      <td>1.038644e+06</td>\n",
       "      <td>1.038644e+06</td>\n",
       "      <td>1.038644e+06</td>\n",
       "    </tr>\n",
       "    <tr>\n",
       "      <th>mean</th>\n",
       "      <td>1.437446e+06</td>\n",
       "      <td>1.122160e+04</td>\n",
       "      <td>4.631876e+00</td>\n",
       "      <td>1.336675e+02</td>\n",
       "      <td>1.956144e+03</td>\n",
       "      <td>1.745242e+03</td>\n",
       "      <td>5.588472e+01</td>\n",
       "      <td>1.061821e+01</td>\n",
       "      <td>6.120533e+03</td>\n",
       "      <td>2.006601e+03</td>\n",
       "      <td>2.348664e+02</td>\n",
       "    </tr>\n",
       "    <tr>\n",
       "      <th>std</th>\n",
       "      <td>1.851221e+06</td>\n",
       "      <td>1.489797e+04</td>\n",
       "      <td>1.723463e+00</td>\n",
       "      <td>5.420673e+01</td>\n",
       "      <td>4.334513e+01</td>\n",
       "      <td>1.169178e+06</td>\n",
       "      <td>6.391005e-01</td>\n",
       "      <td>1.392883e+00</td>\n",
       "      <td>2.266808e+03</td>\n",
       "      <td>6.950279e+00</td>\n",
       "      <td>1.456680e+02</td>\n",
       "    </tr>\n",
       "    <tr>\n",
       "      <th>min</th>\n",
       "      <td>5.001000e+03</td>\n",
       "      <td>4.000000e+00</td>\n",
       "      <td>1.000000e+00</td>\n",
       "      <td>1.000000e+00</td>\n",
       "      <td>1.000000e+03</td>\n",
       "      <td>-1.000000e+02</td>\n",
       "      <td>5.456327e+01</td>\n",
       "      <td>8.087187e+00</td>\n",
       "      <td>1.050000e+03</td>\n",
       "      <td>1.992000e+03</td>\n",
       "      <td>1.881531e-01</td>\n",
       "    </tr>\n",
       "    <tr>\n",
       "      <th>25%</th>\n",
       "      <td>5.920000e+05</td>\n",
       "      <td>4.918000e+03</td>\n",
       "      <td>4.000000e+00</td>\n",
       "      <td>9.800000e+01</td>\n",
       "      <td>1.935000e+03</td>\n",
       "      <td>-1.000000e+00</td>\n",
       "      <td>5.545921e+01</td>\n",
       "      <td>9.579040e+00</td>\n",
       "      <td>4.220000e+03</td>\n",
       "      <td>2.001000e+03</td>\n",
       "      <td>8.731299e+01</td>\n",
       "    </tr>\n",
       "    <tr>\n",
       "      <th>50%</th>\n",
       "      <td>1.030000e+06</td>\n",
       "      <td>8.499500e+03</td>\n",
       "      <td>4.000000e+00</td>\n",
       "      <td>1.290000e+02</td>\n",
       "      <td>1.967000e+03</td>\n",
       "      <td>0.000000e+00</td>\n",
       "      <td>5.576548e+01</td>\n",
       "      <td>1.030861e+01</td>\n",
       "      <td>6.100000e+03</td>\n",
       "      <td>2.007000e+03</td>\n",
       "      <td>2.680543e+02</td>\n",
       "    </tr>\n",
       "    <tr>\n",
       "      <th>75%</th>\n",
       "      <td>1.750000e+06</td>\n",
       "      <td>1.414800e+04</td>\n",
       "      <td>5.000000e+00</td>\n",
       "      <td>1.610000e+02</td>\n",
       "      <td>1.980000e+03</td>\n",
       "      <td>0.000000e+00</td>\n",
       "      <td>5.620674e+01</td>\n",
       "      <td>1.196735e+01</td>\n",
       "      <td>8.300000e+03</td>\n",
       "      <td>2.013000e+03</td>\n",
       "      <td>3.446415e+02</td>\n",
       "    </tr>\n",
       "    <tr>\n",
       "      <th>max</th>\n",
       "      <td>7.923700e+07</td>\n",
       "      <td>2.650000e+06</td>\n",
       "      <td>4.650000e+02</td>\n",
       "      <td>5.363000e+03</td>\n",
       "      <td>2.017000e+03</td>\n",
       "      <td>1.070000e+09</td>\n",
       "      <td>5.774733e+01</td>\n",
       "      <td>1.515301e+01</td>\n",
       "      <td>9.990000e+03</td>\n",
       "      <td>2.017000e+03</td>\n",
       "      <td>5.034509e+02</td>\n",
       "    </tr>\n",
       "  </tbody>\n",
       "</table>\n",
       "</div>"
      ],
      "text/plain": [
       "              price  price_per_sqm      no_rooms   size_in_sqm  \\\n",
       "count  1.038644e+06   1.038644e+06  1.038644e+06  1.038644e+06   \n",
       "mean   1.437446e+06   1.122160e+04  4.631876e+00  1.336675e+02   \n",
       "std    1.851221e+06   1.489797e+04  1.723463e+00  5.420673e+01   \n",
       "min    5.001000e+03   4.000000e+00  1.000000e+00  1.000000e+00   \n",
       "25%    5.920000e+05   4.918000e+03  4.000000e+00  9.800000e+01   \n",
       "50%    1.030000e+06   8.499500e+03  4.000000e+00  1.290000e+02   \n",
       "75%    1.750000e+06   1.414800e+04  5.000000e+00  1.610000e+02   \n",
       "max    7.923700e+07   2.650000e+06  4.650000e+02  5.363000e+03   \n",
       "\n",
       "       year_of_construction  price_change_in_pct      latitude     longitude  \\\n",
       "count          1.038644e+06         1.038644e+06  1.038644e+06  1.038644e+06   \n",
       "mean           1.956144e+03         1.745242e+03  5.588472e+01  1.061821e+01   \n",
       "std            4.334513e+01         1.169178e+06  6.391005e-01  1.392883e+00   \n",
       "min            1.000000e+03        -1.000000e+02  5.456327e+01  8.087187e+00   \n",
       "25%            1.935000e+03        -1.000000e+00  5.545921e+01  9.579040e+00   \n",
       "50%            1.967000e+03         0.000000e+00  5.576548e+01  1.030861e+01   \n",
       "75%            1.980000e+03         0.000000e+00  5.620674e+01  1.196735e+01   \n",
       "max            2.017000e+03         1.070000e+09  5.774733e+01  1.515301e+01   \n",
       "\n",
       "             zip_nr     sell_year  dist_from_cph_center  \n",
       "count  1.038644e+06  1.038644e+06          1.038644e+06  \n",
       "mean   6.120533e+03  2.006601e+03          2.348664e+02  \n",
       "std    2.266808e+03  6.950279e+00          1.456680e+02  \n",
       "min    1.050000e+03  1.992000e+03          1.881531e-01  \n",
       "25%    4.220000e+03  2.001000e+03          8.731299e+01  \n",
       "50%    6.100000e+03  2.007000e+03          2.680543e+02  \n",
       "75%    8.300000e+03  2.013000e+03          3.446415e+02  \n",
       "max    9.990000e+03  2.017000e+03          5.034509e+02  "
      ]
     },
     "execution_count": 6,
     "metadata": {},
     "output_type": "execute_result"
    }
   ],
   "source": [
    "df.describe()"
   ]
  },
  {
   "cell_type": "code",
   "execution_count": 7,
   "metadata": {},
   "outputs": [],
   "source": [
    "#df=df[df['price_change_in_pct'].notnull()]"
   ]
  },
  {
   "cell_type": "code",
   "execution_count": 8,
   "metadata": {},
   "outputs": [],
   "source": [
    "#df.isnull().T.any().T.sum()\n",
    "#df[df.isnull().T.any().T]"
   ]
  },
  {
   "cell_type": "code",
   "execution_count": 9,
   "metadata": {},
   "outputs": [
    {
     "name": "stdout",
     "output_type": "stream",
     "text": [
      "<class 'pandas.core.frame.DataFrame'>\n",
      "RangeIndex: 1038644 entries, 0 to 1038643\n",
      "Data columns (total 16 columns):\n",
      "address                 1038644 non-null object\n",
      "zip_code                1038644 non-null object\n",
      "price                   1038644 non-null int64\n",
      "sell_date               1038644 non-null object\n",
      "sell_type               1038644 non-null object\n",
      "price_per_sqm           1038644 non-null float64\n",
      "no_rooms                1038644 non-null int64\n",
      "housing_type            1038644 non-null object\n",
      "size_in_sqm             1038644 non-null float64\n",
      "year_of_construction    1038644 non-null float64\n",
      "price_change_in_pct     1038644 non-null float64\n",
      "latitude                1038644 non-null float64\n",
      "longitude               1038644 non-null float64\n",
      "zip_nr                  1038644 non-null int64\n",
      "sell_year               1038644 non-null int64\n",
      "dist_from_cph_center    1038644 non-null float64\n",
      "dtypes: float64(7), int64(4), object(5)\n",
      "memory usage: 126.8+ MB\n"
     ]
    }
   ],
   "source": [
    "df.info()"
   ]
  },
  {
   "cell_type": "code",
   "execution_count": 10,
   "metadata": {},
   "outputs": [],
   "source": [
    "df['labels'] = \"\""
   ]
  },
  {
   "cell_type": "code",
   "execution_count": 11,
   "metadata": {},
   "outputs": [],
   "source": [
    "df.loc[df['price_change_in_pct'] < -60.0,\"labels\"]=1\n",
    "df.loc[(df['price_change_in_pct'] > -60.0) & (df['price_change_in_pct'] < 0.0),\"labels\"]=2\n",
    "df.loc[df['price_change_in_pct'] == 0.0,\"labels\"]=3\n",
    "df.loc[(df['price_change_in_pct'] > 0.0) & (df['price_change_in_pct'] < 100.0),\"labels\"]=4\n",
    "df.loc[df['price_change_in_pct'] > 100.0,\"labels\"]=5"
   ]
  },
  {
   "cell_type": "code",
   "execution_count": 12,
   "metadata": {},
   "outputs": [],
   "source": [
    "a = df[df['labels']==1]\n",
    "b = df[df['labels']==2]\n",
    "c = df[df['labels']==3]\n",
    "d = df[df['labels']==4]\n",
    "e = df[df['labels']==5]"
   ]
  },
  {
   "cell_type": "code",
   "execution_count": 13,
   "metadata": {},
   "outputs": [],
   "source": [
    "asample = a.sample(n=50)\n",
    "bsample =b.sample(n=50)\n",
    "csample =c.sample(n=50)\n",
    "dsample =d.sample(n=50)\n",
    "esample =e.sample(n=50)"
   ]
  },
  {
   "cell_type": "code",
   "execution_count": 14,
   "metadata": {},
   "outputs": [],
   "source": [
    "validation_y = pd.concat([asample, bsample, csample,dsample, esample])\n",
    "validation_x = pd.concat([asample.iloc[:,0:16],bsample.iloc[:,0:16],csample.iloc[:,0:16],dsample.iloc[:,0:16],esample.iloc[:,0:16]])"
   ]
  },
  {
   "cell_type": "code",
   "execution_count": 15,
   "metadata": {},
   "outputs": [],
   "source": [
    "df = df[~df.index.isin(validation_x.index)]"
   ]
  },
  {
   "cell_type": "code",
   "execution_count": 16,
   "metadata": {},
   "outputs": [],
   "source": [
    "validation_x = validation_x[['zip_nr','price','no_rooms','size_in_sqm','year_of_construction','sell_year']].values"
   ]
  },
  {
   "cell_type": "code",
   "execution_count": 17,
   "metadata": {},
   "outputs": [],
   "source": [
    "validation_y = validation_y['labels']"
   ]
  },
  {
   "cell_type": "code",
   "execution_count": 18,
   "metadata": {},
   "outputs": [],
   "source": [
    "#df.isna()\n",
    "#df.labels.isna()"
   ]
  },
  {
   "cell_type": "code",
   "execution_count": 19,
   "metadata": {},
   "outputs": [],
   "source": [
    "df = df.apply(lambda labels :pd.to_numeric(labels, errors='coerce'))"
   ]
  },
  {
   "cell_type": "code",
   "execution_count": 20,
   "metadata": {},
   "outputs": [],
   "source": [
    "df['labels'] = df['labels'].fillna(3)"
   ]
  },
  {
   "cell_type": "code",
   "execution_count": 21,
   "metadata": {},
   "outputs": [],
   "source": [
    "df['price'] = df.price/100000\n",
    "x = df[['zip_nr','price','no_rooms','size_in_sqm','year_of_construction','sell_year']].values"
   ]
  },
  {
   "cell_type": "code",
   "execution_count": 22,
   "metadata": {},
   "outputs": [],
   "source": [
    "y = df['labels'].values"
   ]
  },
  {
   "cell_type": "code",
   "execution_count": 23,
   "metadata": {},
   "outputs": [
    {
     "name": "stdout",
     "output_type": "stream",
     "text": [
      "(1038394, 6) (1038394,)\n"
     ]
    }
   ],
   "source": [
    "print(x.shape,y.shape)"
   ]
  },
  {
   "cell_type": "code",
   "execution_count": 24,
   "metadata": {},
   "outputs": [],
   "source": [
    "#x = x.reshape(-1,6)\n",
    "#y = y.reshape(-1,1)"
   ]
  },
  {
   "cell_type": "code",
   "execution_count": 25,
   "metadata": {},
   "outputs": [
    {
     "name": "stdout",
     "output_type": "stream",
     "text": [
      "False\n"
     ]
    }
   ],
   "source": [
    "nan = np.isnan(y).any()\n",
    "np.isnan(y).sum()\n",
    "print(nan)"
   ]
  },
  {
   "cell_type": "markdown",
   "metadata": {},
   "source": [
    "### Part 2: ML model selection and construction"
   ]
  },
  {
   "cell_type": "code",
   "execution_count": null,
   "metadata": {},
   "outputs": [],
   "source": []
  },
  {
   "cell_type": "code",
   "execution_count": 26,
   "metadata": {},
   "outputs": [],
   "source": [
    "x_train, x_test, y_train, y_test = train_test_split(x,y, test_size=0.2, random_state=5)"
   ]
  },
  {
   "cell_type": "code",
   "execution_count": 27,
   "metadata": {},
   "outputs": [
    {
     "name": "stdout",
     "output_type": "stream",
     "text": [
      "830715 830715 207679 207679\n"
     ]
    }
   ],
   "source": [
    "print(len(x_train), len(y_train),len(x_test), len(y_test) )"
   ]
  },
  {
   "cell_type": "code",
   "execution_count": null,
   "metadata": {},
   "outputs": [],
   "source": []
  },
  {
   "cell_type": "code",
   "execution_count": 28,
   "metadata": {},
   "outputs": [],
   "source": [
    "# four models\n",
    "model_svm = svm.SVC()\n",
    "model_dt = tree.DecisionTreeClassifier(max_depth = 3)\n",
    "model_lr = LogisticRegression()\n",
    "model_knn = KNeighborsClassifier()"
   ]
  },
  {
   "cell_type": "markdown",
   "metadata": {},
   "source": [
    "### Part 3: Training & Validation"
   ]
  },
  {
   "cell_type": "code",
   "execution_count": 29,
   "metadata": {},
   "outputs": [
    {
     "name": "stderr",
     "output_type": "stream",
     "text": [
      "C:\\Users\\yosuke\\Anaconda3\\lib\\site-packages\\sklearn\\linear_model\\logistic.py:432: FutureWarning: Default solver will be changed to 'lbfgs' in 0.22. Specify a solver to silence this warning.\n",
      "  FutureWarning)\n",
      "C:\\Users\\yosuke\\Anaconda3\\lib\\site-packages\\sklearn\\linear_model\\logistic.py:469: FutureWarning: Default multi_class will be changed to 'auto' in 0.22. Specify the multi_class option to silence this warning.\n",
      "  \"this warning.\", FutureWarning)\n"
     ]
    },
    {
     "name": "stdout",
     "output_type": "stream",
     "text": [
      "0.7300449251007565\n"
     ]
    }
   ],
   "source": [
    "#logistic regression\n",
    "model_lr.fit(x_train,y_train)\n",
    "model_lr.score(x_test,y_test)\n",
    "print(model_lr.score(x_test,y_test))"
   ]
  },
  {
   "cell_type": "code",
   "execution_count": null,
   "metadata": {},
   "outputs": [],
   "source": []
  },
  {
   "cell_type": "code",
   "execution_count": 30,
   "metadata": {},
   "outputs": [],
   "source": [
    "# support vector machine\n",
    "#model_svm.fit(x_train, y_train)\n",
    "#y_pred_svm = model_svm.predict(x_test)\n",
    "#print(accuracy_score(y_pred_svm, y_test))\n",
    "#confusion_matrix(y_test, y_pred)"
   ]
  },
  {
   "cell_type": "code",
   "execution_count": 31,
   "metadata": {},
   "outputs": [
    {
     "name": "stdout",
     "output_type": "stream",
     "text": [
      "0.7955306025163834\n"
     ]
    }
   ],
   "source": [
    "# decision tree\n",
    "model_dt.fit(x_train, y_train)\n",
    "y_predict_tree = model_dt.predict(x_test)\n",
    "print(accuracy_score(y_predict_tree, y_test))"
   ]
  },
  {
   "cell_type": "code",
   "execution_count": null,
   "metadata": {},
   "outputs": [],
   "source": []
  },
  {
   "cell_type": "code",
   "execution_count": 32,
   "metadata": {},
   "outputs": [
    {
     "name": "stdout",
     "output_type": "stream",
     "text": [
      "0.7841717265587758\n"
     ]
    }
   ],
   "source": [
    "# K nearst neighbour\n",
    "model_knn = KNeighborsClassifier(n_neighbors = 5)\n",
    "model_knn.fit(x_train,y_train) \n",
    "print(model_knn.score(x_test,y_test))"
   ]
  },
  {
   "cell_type": "code",
   "execution_count": null,
   "metadata": {},
   "outputs": [],
   "source": []
  },
  {
   "cell_type": "code",
   "execution_count": 33,
   "metadata": {},
   "outputs": [
    {
     "data": {
      "text/plain": [
       "array([[6.270e+03, 5.750e+00, 3.000e+00, 1.520e+02, 1.923e+03, 2.003e+03],\n",
       "       [9.220e+03, 7.200e+00, 4.000e+00, 1.540e+02, 1.973e+03, 1.992e+03],\n",
       "       [4.200e+03, 2.625e+01, 4.000e+00, 1.520e+02, 1.922e+03, 2.011e+03],\n",
       "       ...,\n",
       "       [6.400e+03, 5.950e+00, 4.000e+00, 8.000e+01, 1.877e+03, 2.007e+03],\n",
       "       [2.600e+03, 1.420e+01, 4.000e+00, 9.600e+01, 1.968e+03, 2.004e+03],\n",
       "       [4.500e+03, 6.750e+00, 5.000e+00, 9.200e+01, 1.972e+03, 2.005e+03]])"
      ]
     },
     "execution_count": 33,
     "metadata": {},
     "output_type": "execute_result"
    }
   ],
   "source": [
    "x_train"
   ]
  },
  {
   "cell_type": "code",
   "execution_count": 41,
   "metadata": {},
   "outputs": [],
   "source": [
    "first = validation_x[0].reshape(1,-6)\n",
    "second = validation_x[2].reshape(1,-6)\n",
    "ninety = validation_x[90].reshape(1,-6)\n",
    "onefifty = validation_x[150].reshape(1,-6)"
   ]
  },
  {
   "cell_type": "code",
   "execution_count": null,
   "metadata": {},
   "outputs": [],
   "source": []
  },
  {
   "cell_type": "code",
   "execution_count": 101,
   "metadata": {},
   "outputs": [
    {
     "data": {
      "text/plain": [
       "2.0"
      ]
     },
     "execution_count": 101,
     "metadata": {},
     "output_type": "execute_result"
    }
   ],
   "source": [
    "model_lr.predict(validation_x)[0]"
   ]
  },
  {
   "cell_type": "code",
   "execution_count": null,
   "metadata": {},
   "outputs": [],
   "source": []
  },
  {
   "cell_type": "code",
   "execution_count": 93,
   "metadata": {},
   "outputs": [
    {
     "name": "stdout",
     "output_type": "stream",
     "text": [
      "Prediction:under 0%\n",
      "Probability:100.00%\n"
     ]
    }
   ],
   "source": [
    "label = {1:'under -60%', 2:'under 0%',3:'sold to claimed price',4:'sold to overprice',5:'sold to overprice exceeding 100%'}\n",
    "\n",
    "#decision tree\n",
    "print('Prediction:%s\\nProbability:%.2f%%'%(label[model_dt.predict(validation_x)[0]], np.max(model_dt.predict_proba(validation_x))*100))"
   ]
  },
  {
   "cell_type": "code",
   "execution_count": 92,
   "metadata": {},
   "outputs": [
    {
     "name": "stdout",
     "output_type": "stream",
     "text": [
      "Prediction:sold to claimed price\n",
      "Probability:100.00%\n"
     ]
    }
   ],
   "source": [
    "# knn\n",
    "print('Prediction:%s\\nProbability:%.2f%%'%(label[model_knn.predict(validation_x)[0]], np.max(model_knn.predict_proba(validation_x))*100))"
   ]
  },
  {
   "cell_type": "code",
   "execution_count": 99,
   "metadata": {},
   "outputs": [
    {
     "name": "stdout",
     "output_type": "stream",
     "text": [
      "Prediction:under 0%\n",
      "Probability:33.33%\n"
     ]
    }
   ],
   "source": [
    "# logistic \n",
    "print('Prediction:%s\\nProbability:%.2f%%'%(label[model_lr.predict(validation_x)[0]], np.max(model_lr.predict_proba(validation_x))*100))"
   ]
  },
  {
   "cell_type": "code",
   "execution_count": 102,
   "metadata": {},
   "outputs": [
    {
     "name": "stdout",
     "output_type": "stream",
     "text": [
      "Prediction:under 0%\n",
      "Probability:100.00%\n"
     ]
    }
   ],
   "source": [
    "print('Prediction:%s\\nProbability:%.2f%%'%(label[model_dt.predict(validation_x)[0]], np.max(model_dt.predict_proba(validation_x))*100))"
   ]
  },
  {
   "cell_type": "code",
   "execution_count": 103,
   "metadata": {},
   "outputs": [
    {
     "name": "stdout",
     "output_type": "stream",
     "text": [
      "Prediction:under 0%\n",
      "Probability:100.00%\n"
     ]
    }
   ],
   "source": [
    "print('Prediction:%s\\nProbability:%.2f%%'%(label[model_dt.predict(validation_x)[0]], np.max(model_dt.predict_proba(validation_x))*100))"
   ]
  },
  {
   "cell_type": "code",
   "execution_count": 114,
   "metadata": {},
   "outputs": [],
   "source": [
    "# evaluation metrics\n",
    "#confusion_matrix(y_test, y_predict_tree)\n",
    "\n",
    "\n",
    "decisiontreemodel = model_dt.predict(x_test)\n",
    "confmat = confusion_matrix(y_true=y_test, y_pred=y_predict_tree)\n",
    "\n",
    "\n",
    "def display_confusion(confmat):\n",
    "    \n",
    "    fig, ax = plt.subplots(figsize=(9.8, 9.8))\n",
    "    ax.matshow(confmat, cmap=plt.cm.Blues, alpha=0.3)\n",
    "    for i in range(confmat.shape[0]):\n",
    "        for j in range(confmat.shape[1]):\n",
    "            ax.text(x=j, y=i,\n",
    "                    s=confmat[i, j],\n",
    "                    va='center', ha='center')\n",
    "\n",
    "            plt.xlabel('predicted label')\n",
    "    plt.ylabel('true label')\n",
    "    plt.show()\n"
   ]
  },
  {
   "cell_type": "code",
   "execution_count": 115,
   "metadata": {},
   "outputs": [
    {
     "data": {
      "image/png": "[encoded data removed]",
      "text/plain": [
       "<Figure size 705.6x705.6 with 1 Axes>"
      ]
     },
     "metadata": {},
     "output_type": "display_data"
    }
   ],
   "source": [
    "\n",
    "# confusion matrix and compute accuracy, precision, and recall, for all classes (remember 3 classes => 3x3 conf.mat.).\n",
    "display_confusion(confmat)"
   ]
  },
  {
   "cell_type": "code",
   "execution_count": 125,
   "metadata": {},
   "outputs": [
    {
     "name": "stdout",
     "output_type": "stream",
     "text": [
      "0.7955306025163834\n"
     ]
    }
   ],
   "source": [
    "#Accuracy score (decision tree)\n",
    "print(accuracy_score(y_test, y_predict_tree))"
   ]
  },
  {
   "cell_type": "code",
   "execution_count": 129,
   "metadata": {},
   "outputs": [
    {
     "name": "stderr",
     "output_type": "stream",
     "text": [
      "C:\\Users\\yosuke\\Anaconda3\\lib\\site-packages\\sklearn\\metrics\\classification.py:1437: UndefinedMetricWarning: Precision and F-score are ill-defined and being set to 0.0 in labels with no predicted samples.\n",
      "  'precision', 'predicted', average, warn_for)\n"
     ]
    },
    {
     "name": "stdout",
     "output_type": "stream",
     "text": [
      "              precision    recall  f1-score   support\n",
      "\n",
      "         1.0       0.00      0.00      0.00       566\n",
      "         2.0       0.58      0.74      0.65     52601\n",
      "         3.0       0.90      0.83      0.86    152761\n",
      "         4.0       0.00      0.00      0.00      1711\n",
      "         5.0       0.00      0.00      0.00        40\n",
      "\n",
      "    accuracy                           0.80    207679\n",
      "   macro avg       0.30      0.31      0.30    207679\n",
      "weighted avg       0.81      0.80      0.80    207679\n",
      "\n"
     ]
    }
   ],
   "source": [
    "print(classification_report(y_test, y_predict_tree))"
   ]
  },
  {
   "cell_type": "code",
   "execution_count": null,
   "metadata": {},
   "outputs": [],
   "source": []
  },
  {
   "cell_type": "markdown",
   "metadata": {},
   "source": [
    "### Part 4: Report your findings (BI)"
   ]
  },
  {
   "cell_type": "code",
   "execution_count": null,
   "metadata": {},
   "outputs": [],
   "source": []
  },
  {
   "cell_type": "code",
   "execution_count": null,
   "metadata": {},
   "outputs": [],
   "source": []
  },
  {
   "cell_type": "markdown",
   "metadata": {},
   "source": [
    "### Part 5: House Keeping"
   ]
  },
  {
   "cell_type": "code",
   "execution_count": null,
   "metadata": {},
   "outputs": [],
   "source": []
  }
 ],
 "metadata": {
  "kernelspec": {
   "display_name": "Python 3",
   "language": "python",
   "name": "python3"
  },
  "language_info": {
   "codemirror_mode": {
    "name": "ipython",
    "version": 3
   },
   "file_extension": ".py",
   "mimetype": "text/x-python",
   "name": "python",
   "nbconvert_exporter": "python",
   "pygments_lexer": "ipython3",
   "version": "3.6.5"
  }
 },
 "nbformat": 4,
 "nbformat_minor": 2
}
