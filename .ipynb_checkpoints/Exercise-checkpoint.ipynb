{
 "cells": [
  {
   "cell_type": "code",
   "execution_count": 2,
   "metadata": {},
   "outputs": [],
   "source": [
    "import words\n",
    "import random\n",
    "import timeit"
   ]
  },
  {
   "cell_type": "code",
   "execution_count": 3,
   "metadata": {},
   "outputs": [
    {
     "name": "stdout",
     "output_type": "stream",
     "text": [
      "484\n",
      "227\n"
     ]
    }
   ],
   "source": [
    "nouns_len = len(words.NOUNS)\n",
    "adjectives_len = len(words.ADJECTIVES)\n",
    "\n",
    "print(nouns_len)\n",
    "print(adjectives_len)"
   ]
  },
  {
   "cell_type": "code",
   "execution_count": 4,
   "metadata": {},
   "outputs": [],
   "source": [
    "\"\"\"\n",
    "random.choice selects random elements from the list\n",
    "\"\"\"\n",
    "names = []"
   ]
  },
  {
   "cell_type": "code",
   "execution_count": 5,
   "metadata": {},
   "outputs": [],
   "source": [
    "for i in range(20):\n",
    "    names.append(str(random.choice(words.NOUNS).capitalize()) + \" \" + str(random.choice(words.ADJECTIVES)).capitalize())"
   ]
  },
  {
   "cell_type": "code",
   "execution_count": 6,
   "metadata": {},
   "outputs": [
    {
     "name": "stdout",
     "output_type": "stream",
     "text": [
      "Steak Disgusted\n",
      "Way Concerned\n",
      "Grandmother Handsome\n",
      "Ratio Thoughtless\n",
      "Ear Drab\n",
      "Recommendation Creepy\n",
      "Priority Precious\n",
      "Mall Fierce\n",
      "Love Funny\n",
      "Department Gentle\n",
      "Lab Prickly\n",
      "Manufacturer Helpless\n",
      "Distribution Good\n",
      "Classroom Energetic\n",
      "Profession Arrogant\n",
      "Impression Adventurous\n",
      "Disease Perfect\n",
      "Bird Angry\n",
      "Poetry Shiny\n",
      "Atmosphere Dark\n"
     ]
    }
   ],
   "source": [
    "for i in range(20):\n",
    "    print(names[i])"
   ]
  },
  {
   "cell_type": "code",
   "execution_count": 7,
   "metadata": {},
   "outputs": [
    {
     "name": "stdout",
     "output_type": "stream",
     "text": [
      "1\n",
      "1000000\n"
     ]
    }
   ],
   "source": [
    "int_values = []\n",
    "for i in range(1000000):\n",
    "    int_values.append(i+1)\n",
    "print(min(int_values))\n",
    "print(max(int_values))"
   ]
  },
  {
   "cell_type": "code",
   "execution_count": null,
   "metadata": {},
   "outputs": [],
   "source": []
  },
  {
   "cell_type": "code",
   "execution_count": null,
   "metadata": {},
   "outputs": [],
   "source": []
  },
  {
   "cell_type": "code",
   "execution_count": null,
   "metadata": {},
   "outputs": [],
   "source": []
  }
 ],
 "metadata": {
  "kernelspec": {
   "display_name": "Python 3",
   "language": "python",
   "name": "python3"
  },
  "language_info": {
   "codemirror_mode": {
    "name": "ipython",
    "version": 3
   },
   "file_extension": ".py",
   "mimetype": "text/x-python",
   "name": "python",
   "nbconvert_exporter": "python",
   "pygments_lexer": "ipython3",
   "version": "3.7.3"
  }
 },
 "nbformat": 4,
 "nbformat_minor": 2
}
